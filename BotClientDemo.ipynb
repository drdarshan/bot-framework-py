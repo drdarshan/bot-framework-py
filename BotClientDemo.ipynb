{
 "cells": [
  {
   "cell_type": "markdown",
   "metadata": {},
   "source": [
    "# Interacting with chatbots using Jupyter"
   ]
  },
  {
   "cell_type": "markdown",
   "metadata": {},
   "source": [
    "This notebook shows a simple chatbot client built using Jupyter [_magics_](http://ipython.readthedocs.io/en/stable/interactive/magics.html). \n",
    "\n",
    "The chatbot client supports four verbs:\n",
    "* ``connect``: Connects to a bot using a ``DirectLine`` access key and starts a new conversation\n",
    "* ``post``: Sends a message to the bot\n",
    "* ``attach``: Uploads an attachment\n",
    "* ``done``: Closes the conversation\n",
    "\n",
    "Behind the scenes, there is a Python bot SDK hosted [here](https://github.com/drdarshan/bot-framework-py) that wraps the ``DirectLine`` REST APIs documented [here](https://docs.microsoft.com/en-us/bot-framework/rest-api/bot-framework-rest-direct-line-3-0-concepts). This SDK is then used by a Jupyter extension that provides a set of _magic_ verbs to communicate with the bot.\n",
    "\n",
    "The rest of this notebook shows an example of using the chatbot client to interact with a bot built on top of the Cognitive Service image captioning APIs, see: https://github.com/Microsoft/BotBuilder-Samples/tree/master/Node/intelligence-ImageCaption"
   ]
  },
  {
   "cell_type": "markdown",
   "metadata": {},
   "source": [
    "The first step is to load the Jupyter extension that provides the verbs for interacting with the bot"
   ]
  },
  {
   "cell_type": "code",
   "execution_count": 3,
   "metadata": {
    "collapsed": false
   },
   "outputs": [],
   "source": [
    "%load_ext botmagics"
   ]
  },
  {
   "cell_type": "markdown",
   "metadata": {},
   "source": [
    "Once the extension loads, it populates the notebook with the verbs for interacting with the bot. Let's connect to the bot first to start a conversation. After every action, responses from the bot are shown in blue."
   ]
  },
  {
   "cell_type": "code",
   "execution_count": 4,
   "metadata": {
    "collapsed": false
   },
   "outputs": [
    {
     "data": {
      "text/html": [
       "<b>Started conversation with ID: Km9uAY5fxV4FpepptBCnmu</b>"
      ],
      "text/plain": [
       "<IPython.core.display.HTML object>"
      ]
     },
     "metadata": {},
     "output_type": "display_data"
    },
    {
     "data": {
      "text/html": [
       "<font color='blue'><b>Hi! I am ImageCaption Bot. I can understand the content of any image and try to describe it as well as any human. Try sending me an image or an image URL.</b></font>"
      ],
      "text/plain": [
       "<IPython.core.display.HTML object>"
      ]
     },
     "metadata": {},
     "output_type": "display_data"
    }
   ],
   "source": [
    "%connect XNNK-LxnABc.cwA.wBg.JRK3epX-idsrD_h16cu1hlac1KUcAXLkVc7m-m9Sxx0"
   ]
  },
  {
   "cell_type": "markdown",
   "metadata": {},
   "source": [
    "Now that the bot is ready, we can send it an image to be captioned as an attachment. If the attachment is an image, the notebook will first display it inline and then show a response from the bot after a few seconds."
   ]
  },
  {
   "cell_type": "code",
   "execution_count": 6,
   "metadata": {
    "collapsed": false
   },
   "outputs": [
    {
     "data": {
      "text/html": [
       "<img src='images/bread-on-board.jpg'>"
      ],
      "text/plain": [
       "<IPython.core.display.HTML object>"
      ]
     },
     "metadata": {},
     "output_type": "display_data"
    },
    {
     "data": {
      "text/html": [
       "<font color='blue'><b>I think it's a piece of bread on a wooden table</b></font>"
      ],
      "text/plain": [
       "<IPython.core.display.HTML object>"
      ]
     },
     "metadata": {},
     "output_type": "display_data"
    }
   ],
   "source": [
    "%attach images/bread-on-board.jpg"
   ]
  },
  {
   "cell_type": "markdown",
   "metadata": {},
   "source": [
    "The image caption bot can also take URLs of images to be captioned. We can send URLs as text using the ``%post`` verb. Here is a simple example of an image from the [Caltech 101 dataset](http://www.vision.caltech.edu/Image_Datasets/Caltech101/)"
   ]
  },
  {
   "cell_type": "code",
   "execution_count": 7,
   "metadata": {
    "collapsed": false
   },
   "outputs": [
    {
     "data": {
      "text/html": [
       "<img src='http://www.vision.caltech.edu/Image_Datasets/Caltech101/SamplePics/image_0001.jpg'>"
      ],
      "text/plain": [
       "<IPython.core.display.HTML object>"
      ]
     },
     "metadata": {},
     "output_type": "display_data"
    },
    {
     "data": {
      "text/html": [
       "<font color='blue'><b>I think it's a reptile lying in the dirt</b></font>"
      ],
      "text/plain": [
       "<IPython.core.display.HTML object>"
      ]
     },
     "metadata": {},
     "output_type": "display_data"
    }
   ],
   "source": [
    "%post http://www.vision.caltech.edu/Image_Datasets/Caltech101/SamplePics/image_0001.jpg"
   ]
  },
  {
   "cell_type": "markdown",
   "metadata": {},
   "source": [
    "Here are some other fun examples"
   ]
  },
  {
   "cell_type": "code",
   "execution_count": 9,
   "metadata": {
    "collapsed": false
   },
   "outputs": [
    {
     "data": {
      "text/html": [
       "<img src='http://www.vision.caltech.edu/Image_Datasets/Caltech101/SamplePics/image_0022.jpg'>"
      ],
      "text/plain": [
       "<IPython.core.display.HTML object>"
      ]
     },
     "metadata": {},
     "output_type": "display_data"
    },
    {
     "data": {
      "text/html": [
       "<font color='blue'><b>I think it's a red and white plane sitting on the grass</b></font>"
      ],
      "text/plain": [
       "<IPython.core.display.HTML object>"
      ]
     },
     "metadata": {},
     "output_type": "display_data"
    }
   ],
   "source": [
    "%post http://www.vision.caltech.edu/Image_Datasets/Caltech101/SamplePics/image_0022.jpg"
   ]
  },
  {
   "cell_type": "code",
   "execution_count": 10,
   "metadata": {
    "collapsed": false
   },
   "outputs": [
    {
     "data": {
      "text/html": [
       "<img src='http://www.vision.caltech.edu/Image_Datasets/Caltech101/SamplePics/image_0083.jpg'>"
      ],
      "text/plain": [
       "<IPython.core.display.HTML object>"
      ]
     },
     "metadata": {},
     "output_type": "display_data"
    },
    {
     "data": {
      "text/html": [
       "<font color='blue'><b>I think it's a close up of a fruit</b></font>"
      ],
      "text/plain": [
       "<IPython.core.display.HTML object>"
      ]
     },
     "metadata": {},
     "output_type": "display_data"
    }
   ],
   "source": [
    "%post http://www.vision.caltech.edu/Image_Datasets/Caltech101/SamplePics/image_0083.jpg"
   ]
  },
  {
   "cell_type": "markdown",
   "metadata": {
    "collapsed": false
   },
   "source": [
    "Once we are done with the conversation, we can close it using the ``%done`` verb. After this, no other activity is possible without creating a new conversation. "
   ]
  },
  {
   "cell_type": "code",
   "execution_count": 12,
   "metadata": {
    "collapsed": false
   },
   "outputs": [
    {
     "data": {
      "text/html": [
       "<h2>Good bye!</h2>"
      ],
      "text/plain": [
       "<IPython.core.display.HTML object>"
      ]
     },
     "metadata": {},
     "output_type": "display_data"
    }
   ],
   "source": [
    "%done"
   ]
  },
  {
   "cell_type": "markdown",
   "metadata": {},
   "source": [
    "## What's next\n",
    "\n",
    "The code for the Bot Framework Python client and this example notebook is available on GitHub: https://github.com/drdarshan/bot-framework-py. We will be extending the functionality of the client and potentially using Swagger to auto-generate the bindings. We are also in the process of using web sockets to make the interaction with the bots more responsive and using a library such as requests in order to further use optimizations such as connection pooling. Please use the issues page on GitHub to file bugs or feature requests."
   ]
  },
  {
   "cell_type": "code",
   "execution_count": null,
   "metadata": {
    "collapsed": true
   },
   "outputs": [],
   "source": []
  }
 ],
 "metadata": {
  "kernelspec": {
   "display_name": "Python 2",
   "language": "python",
   "name": "python2"
  },
  "language_info": {
   "codemirror_mode": {
    "name": "ipython",
    "version": 2
   },
   "file_extension": ".py",
   "mimetype": "text/x-python",
   "name": "python",
   "nbconvert_exporter": "python",
   "pygments_lexer": "ipython2",
   "version": "2.7.13"
  }
 },
 "nbformat": 4,
 "nbformat_minor": 2
}
